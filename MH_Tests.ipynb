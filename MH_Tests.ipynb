{
  "nbformat": 4,
  "nbformat_minor": 0,
  "metadata": {
    "colab": {
      "name": "MH_Tests.ipynb",
      "provenance": []
    },
    "kernelspec": {
      "name": "python3",
      "display_name": "Python 3"
    }
  },
  "cells": [
    {
      "cell_type": "code",
      "metadata": {
        "colab": {
          "base_uri": "https://localhost:8080/"
        },
        "id": "6cPNUONhNSjF",
        "outputId": "7cb83e64-a2c7-4401-f171-35f85c51b259"
      },
      "source": [
        "import numpy as np\n",
        "from datascience import *\n",
        "import matplotlib\n",
        "%matplotlib inline\n",
        "import matplotlib.pyplot as plt\n",
        "plt.style.use('fivethirtyeight')\n",
        "\n",
        "import pandas as pd\n",
        "import warnings\n",
        "warnings.simplefilter('ignore', FutureWarning)"
      ],
      "execution_count": 1,
      "outputs": [
        {
          "output_type": "stream",
          "text": [
            "/usr/local/lib/python3.6/dist-packages/datascience/tables.py:17: MatplotlibDeprecationWarning: The 'warn' parameter of use() is deprecated since Matplotlib 3.1 and will be removed in 3.3.  If any parameter follows 'warn', they should be pass as keyword, not positionally.\n",
            "  matplotlib.use('agg', warn=False)\n",
            "/usr/local/lib/python3.6/dist-packages/datascience/util.py:10: MatplotlibDeprecationWarning: The 'warn' parameter of use() is deprecated since Matplotlib 3.1 and will be removed in 3.3.  If any parameter follows 'warn', they should be pass as keyword, not positionally.\n",
            "  matplotlib.use('agg', warn=False)\n"
          ],
          "name": "stderr"
        }
      ]
    },
    {
      "cell_type": "code",
      "metadata": {
        "id": "3wBox7KuNXJo"
      },
      "source": [
        "mental_health = pd.read_csv('mental_health.csv')\n",
        "\n",
        "mental_health = mental_health[(mental_health['Question 3']=='United States') | (mental_health['Question 3']=='United States of America')]\n",
        "\n",
        "mental_health[\"Question 89\"]= mental_health[\"Question 89\"].replace([\"European American\",\"Caucasian\"], \"White\") \n",
        "mental_health[\"Question 89\"]= mental_health[\"Question 89\"].replace([\"White Hispanic\"], \"Hispanic\") \n",
        "mental_health[\"Question 89\"]= mental_health[\"Question 89\"].replace([\"More than one of the above\"], \"Mixed Race\") \n",
        "mental_health[\"Question 89\"]= mental_health[\"Question 89\"].replace([\"Hispanic\"], np.NAN) \n",
        "mental_health[\"Question 89\"]= mental_health[\"Question 89\"].replace([\"American Indian or Alaska Native\"], np.NAN) \n",
        "mental_health[\"Question 89\"]= mental_health[\"Question 89\"].replace([\"Black or African American\"],\"Black\") "
      ],
      "execution_count": 3,
      "outputs": []
    },
    {
      "cell_type": "code",
      "metadata": {
        "id": "PMGiBgSFNp7B"
      },
      "source": [
        "def two_samples_proportions_diagnosed(question,var1=0,var2=1):\n",
        "    try:\n",
        "        question_poss_answers = np.unique(mental_health[question][(~pd.isna(mental_health[question]))&(~pd.isna(mental_health['Question 34']))])\n",
        "        \n",
        "        diagnosed_ans1 = mental_health[question][(mental_health[question]==question_poss_answers[var1])&(mental_health['Question 34']=='Yes')]\n",
        "        not_diagnosed_ans1 = mental_health[question][(mental_health[question]==question_poss_answers[var1])&(mental_health['Question 34']=='No')]\n",
        "        \n",
        "        diagnosed_ans2 = mental_health[question][(mental_health[question]==question_poss_answers[var2])&(mental_health['Question 34']=='Yes')]\n",
        "        not_diagnosed_ans2 = mental_health[question][(mental_health[question]==question_poss_answers[var2])&(mental_health['Question 34']=='No')]\n",
        "        \n",
        "        \n",
        "        ans1 = np.append(diagnosed_ans1,not_diagnosed_ans1)\n",
        "        ans1_diagstat = ['Diagnosed']*len(diagnosed_ans1) + ['Not Diagnosed']*len(not_diagnosed_ans1)\n",
        "        \n",
        "        ans2 = np.append(diagnosed_ans2,not_diagnosed_ans2)\n",
        "        ans2_diagstat = ['Diagnosed']*len(diagnosed_ans2) + ['Not Diagnosed']*len(not_diagnosed_ans2)\n",
        "        \n",
        "        \n",
        "        total = np.append(ans1_diagstat,ans2_diagstat)\n",
        "        \n",
        "        sim_diff = make_array()\n",
        "        \n",
        "        for i in range(1000):\n",
        "            shuffled_diag = np.random.permutation(total)\n",
        "            #counting proportion of randomized diagnosed people for that who anwered with choice 1\n",
        "            answer1_diagnosed = sum(shuffled_diag[0:len(ans1)]=='Diagnosed')/len(ans1)\n",
        "                    \n",
        "            #counting proportion of randomized diagnosed people for that who anwered with choice 2\n",
        "            answer2_diagnosed = sum(shuffled_diag[len(ans1):len(ans1)+len(ans2)]=='Diagnosed')/len(ans2)\n",
        "            \n",
        "            sim_diff = np.append(sim_diff,(answer1_diagnosed-answer2_diagnosed))\n",
        "            \n",
        "        obs_diff = (len(diagnosed_ans1)/(len(diagnosed_ans1)+len(not_diagnosed_ans1)))-(len(diagnosed_ans2)/(len(diagnosed_ans2)+len(not_diagnosed_ans2)))\n",
        "        \n",
        "        print('For determination of significance of difference between proportions of diagnosed individuals between those who responded \"',question_poss_answers[var1] ,'\" and \"',question_poss_answers[var2],'\" for',question,', observed difference between proportion diagnosed of \"',question_poss_answers[var1],'\" individuals and \"',question_poss_answers[var2],'\" responding individuals (former minus later) is ',obs_diff)\n",
        "        \n",
        "        if obs_diff<np.mean(sim_diff):\n",
        "            one_sided_p_value = sum(obs_diff>sim_diff)/1000\n",
        "            two_sided_p_value = 2*one_sided_p_value\n",
        "        else:\n",
        "            one_sided_p_value = sum(obs_diff<sim_diff)/1000\n",
        "            two_sided_p_value = 2*one_sided_p_value\n",
        "        \n",
        "        print('One sided p_value = ',one_sided_p_value,', two sided p_value = ',two_sided_p_value)\n",
        "   \n",
        "        return(one_sided_p_value,two_sided_p_value)\n",
        "        \n",
        "    except Exception as e:\n",
        "        print(e)\n",
        "        return"
      ],
      "execution_count": 5,
      "outputs": []
    },
    {
      "cell_type": "code",
      "metadata": {
        "colab": {
          "base_uri": "https://localhost:8080/"
        },
        "id": "2EI-fFy1NzLW",
        "outputId": "2bb7ce37-147b-40cd-f1c9-d0b9ab956b1a"
      },
      "source": [
        "two_samples_proportions_diagnosed('Question 13')"
      ],
      "execution_count": 6,
      "outputs": [
        {
          "output_type": "stream",
          "text": [
            "For determination of significance of difference between proportions of diagnosed individuals between those who responded \" No \" and \" Yes \" for Question 13 , observed difference between proportion diagnosed of \" No \" individuals and \" Yes \" responding individuals (former minus later) is  -0.07395434753925323\n",
            "One sided p_value =  0.033 , two sided p_value =  0.066\n"
          ],
          "name": "stdout"
        },
        {
          "output_type": "execute_result",
          "data": {
            "text/plain": [
              "(0.033, 0.066)"
            ]
          },
          "metadata": {
            "tags": []
          },
          "execution_count": 6
        }
      ]
    },
    {
      "cell_type": "code",
      "metadata": {
        "colab": {
          "base_uri": "https://localhost:8080/"
        },
        "id": "YWglKuFEN44G",
        "outputId": "c868d4fe-2a43-420c-fa97-0e9efa428215"
      },
      "source": [
        "two_samples_proportions_diagnosed('Question 5')"
      ],
      "execution_count": 7,
      "outputs": [
        {
          "output_type": "stream",
          "text": [
            "For determination of significance of difference between proportions of diagnosed individuals between those who responded \" No \" and \" Yes \" for Question 5 , observed difference between proportion diagnosed of \" No \" individuals and \" Yes \" responding individuals (former minus later) is  0.019626190196308957\n",
            "One sided p_value =  0.258 , two sided p_value =  0.516\n"
          ],
          "name": "stdout"
        },
        {
          "output_type": "execute_result",
          "data": {
            "text/plain": [
              "(0.258, 0.516)"
            ]
          },
          "metadata": {
            "tags": []
          },
          "execution_count": 7
        }
      ]
    },
    {
      "cell_type": "code",
      "metadata": {
        "id": "ImmwhVg_N6kJ"
      },
      "source": [
        "mental_health[\"MaleFemale or Other\"]= mental_health[\"Question 2\"].replace([\"Male\",\"Female\"], \"Male/Female\") "
      ],
      "execution_count": 8,
      "outputs": []
    },
    {
      "cell_type": "code",
      "metadata": {
        "colab": {
          "base_uri": "https://localhost:8080/"
        },
        "id": "4yWnZfocN8wO",
        "outputId": "8bb8beb8-937a-428a-bcf0-2c3538b40fa5"
      },
      "source": [
        "two_samples_proportions_diagnosed('Question 2')"
      ],
      "execution_count": 9,
      "outputs": [
        {
          "output_type": "stream",
          "text": [
            "For determination of significance of difference between proportions of diagnosed individuals between those who responded \" Female \" and \" Male \" for Question 2 , observed difference between proportion diagnosed of \" Female \" individuals and \" Male \" responding individuals (former minus later) is  0.15961946681650752\n",
            "One sided p_value =  0.0 , two sided p_value =  0.0\n"
          ],
          "name": "stdout"
        },
        {
          "output_type": "execute_result",
          "data": {
            "text/plain": [
              "(0.0, 0.0)"
            ]
          },
          "metadata": {
            "tags": []
          },
          "execution_count": 9
        }
      ]
    },
    {
      "cell_type": "code",
      "metadata": {
        "colab": {
          "base_uri": "https://localhost:8080/"
        },
        "id": "DtjrFf26N-Tk",
        "outputId": "635f451f-b8da-4b9d-fd2b-e8e98ee807da"
      },
      "source": [
        "two_samples_proportions_diagnosed('MaleFemale or Other')"
      ],
      "execution_count": 10,
      "outputs": [
        {
          "output_type": "stream",
          "text": [
            "For determination of significance of difference between proportions of diagnosed individuals between those who responded \" Male/Female \" and \" Other \" for MaleFemale or Other , observed difference between proportion diagnosed of \" Male/Female \" individuals and \" Other \" responding individuals (former minus later) is  -0.225604311008468\n",
            "One sided p_value =  0.0 , two sided p_value =  0.0\n"
          ],
          "name": "stdout"
        },
        {
          "output_type": "execute_result",
          "data": {
            "text/plain": [
              "(0.0, 0.0)"
            ]
          },
          "metadata": {
            "tags": []
          },
          "execution_count": 10
        }
      ]
    }
  ]
}